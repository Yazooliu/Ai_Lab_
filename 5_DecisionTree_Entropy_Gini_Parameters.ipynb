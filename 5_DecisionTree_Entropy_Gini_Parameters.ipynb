{
 "cells": [
  {
   "cell_type": "markdown",
   "metadata": {},
   "source": [
    "### 5_DecisionTree_Entropy_Gini_Parameters"
   ]
  },
  {
   "cell_type": "code",
   "execution_count": 52,
   "metadata": {},
   "outputs": [],
   "source": [
    "#  Copyright private in 2018 \n",
    "#  Modify Date: \n",
    "#      2019- 9- 3 \n",
    "#  Purpose : \n",
    "#       Decision Tree: Entropy/Gini Classifier Construction \n",
    "# ----------\n",
    "#\n",
    "# "
   ]
  },
  {
   "cell_type": "code",
   "execution_count": 53,
   "metadata": {},
   "outputs": [],
   "source": [
    "import numpy as np\n",
    "import matplotlib.pyplot as plt "
   ]
  },
  {
   "cell_type": "markdown",
   "metadata": {},
   "source": [
    "### 1.基于信息熵构建决策树分类器模型"
   ]
  },
  {
   "cell_type": "code",
   "execution_count": 54,
   "metadata": {},
   "outputs": [
    {
     "name": "stdout",
     "output_type": "stream",
     "text": [
      "Row of datasets iris is :   150\n",
      "Column of datasets iris is: 4\n"
     ]
    },
    {
     "data": {
      "text/plain": [
       "DecisionTreeClassifier(class_weight=None, criterion='entropy', max_depth=2,\n",
       "            max_features=None, max_leaf_nodes=None,\n",
       "            min_impurity_decrease=0.0, min_impurity_split=None,\n",
       "            min_samples_leaf=1, min_samples_split=2,\n",
       "            min_weight_fraction_leaf=0.0, presort=False, random_state=None,\n",
       "            splitter='best')"
      ]
     },
     "execution_count": 54,
     "metadata": {},
     "output_type": "execute_result"
    }
   ],
   "source": [
    "from sklearn import datasets \n",
    "iris = datasets.load_iris()\n",
    "X    = iris.data[:,2:] # 行数不限制，只从第3列开始取出 ,正常情况下的数据集行数是140， 列数是 4 \n",
    "y    = iris.target\n",
    "\n",
    "\n",
    "# 数据集的数据的 行数和列数 - row_x, column_y.\n",
    "row_x, column_x = iris.data.shape\n",
    "\n",
    "print ('Row of datasets iris is :  ', row_x)\n",
    "print ('Column of datasets iris is:', column_x)\n",
    "\n",
    "#print ('============')\n",
    "#print (X[2,:])\n",
    "#print ('------------')#\n",
    "# -----------\n",
    "# 决策树分类器的生成\n",
    "from sklearn.tree import DecisionTreeClassifier \n",
    "dt_clf = DecisionTreeClassifier(max_depth = 2, criterion = 'entropy') # 训练标准是信息熵,最大的深度是2 \n",
    "dt_clf.fit(X,y)"
   ]
  },
  {
   "cell_type": "markdown",
   "metadata": {},
   "source": [
    "# 2.信息熵表示不确定性，不确定越高信息熵越大"
   ]
  },
  {
   "cell_type": "code",
   "execution_count": 27,
   "metadata": {},
   "outputs": [],
   "source": [
    "# 信息熵 表示随机变量的不确定度，越不确定则表示信息熵越大\n",
    "def entropy(p):\n",
    "    return - p * np.log(p) - (1-p) * np.log(1-p)"
   ]
  },
  {
   "cell_type": "code",
   "execution_count": 28,
   "metadata": {},
   "outputs": [
    {
     "data": {
      "image/png": "[encoded data removed]",
      "text/plain": [
       "<Figure size 432x288 with 1 Axes>"
      ]
     },
     "metadata": {},
     "output_type": "display_data"
    }
   ],
   "source": [
    "# 从 0 到1 去均匀的取值，形成向量\n",
    "x = np.linspace(0.01, 0.99, 200)  # np.log 不能去0 或者是1 ，所以取 0.01 - 0.09 \n",
    "plt.plot(x,entropy(x),color = 'r')\n",
    "plt.show()"
   ]
  },
  {
   "cell_type": "markdown",
   "metadata": {},
   "source": [
    "# 3.对所有节点上划分可能性进行搜索来知道那个划分是最优的"
   ]
  },
  {
   "cell_type": "code",
   "execution_count": 29,
   "metadata": {},
   "outputs": [
    {
     "data": {
      "image/png": "[encoded data removed]",
      "text/plain": [
       "<Figure size 432x288 with 1 Axes>"
      ]
     },
     "metadata": {},
     "output_type": "display_data"
    }
   ],
   "source": [
    "plt.scatter(X[y == 0,0], X[y == 0,1])\n",
    "plt.scatter(X[y == 1,0], X[y == 1,1])\n",
    "plt.scatter(X[y == 2,0], X[y == 2,1])\n",
    "plt.show()"
   ]
  },
  {
   "cell_type": "code",
   "execution_count": 58,
   "metadata": {},
   "outputs": [],
   "source": [
    "#利用信息熵来做决策树边界\n",
    "def plot_decision_boundary(model,axis):\n",
    "     x0,x1 = np.meshgrid(\n",
    "         np.linspace(axis[0],axis[1], int((axis[1] - axis[0])*100 )).reshape(-1,1),\n",
    "         np.linspace(axis[2],axis[3], int((axis[3] - axis[2])*100 )).reshape(-1,1)\n",
    "     )\n",
    "     X_new = np.c_[x0.ravel(),x1.ravel()]\n",
    "     y_predict  = model.predict(X_new)\n",
    "     zz         = y_predict.reshape(x0.shape)\n",
    "    \n",
    "     from matplotlib.colors import ListedColormap \n",
    "     custom_cmap = ListedColormap (['#EF9A00','#FFF89D', '#90CAF9'])\n",
    "     plt.contourf(x0,x1,zz,cmap = custom_cmap )\n",
    "     #plt.colorbar(orientation = 'horizontal')  # 增加水平colorbar \n",
    "     #plt.colorbar(orientation = 'vertical' )   # 增加垂直colorbar"
   ]
  },
  {
   "cell_type": "code",
   "execution_count": 31,
   "metadata": {},
   "outputs": [
    {
     "data": {
      "text/plain": [
       "DecisionTreeClassifier(class_weight=None, criterion='entropy', max_depth=2,\n",
       "            max_features=None, max_leaf_nodes=None,\n",
       "            min_impurity_decrease=0.0, min_impurity_split=None,\n",
       "            min_samples_leaf=1, min_samples_split=2,\n",
       "            min_weight_fraction_leaf=0.0, presort=False, random_state=42,\n",
       "            splitter='best')"
      ]
     },
     "execution_count": 31,
     "metadata": {},
     "output_type": "execute_result"
    }
   ],
   "source": [
    "# decision tree classifier \n",
    "from sklearn.tree import DecisionTreeClassifier\n",
    "\n",
    "# max_depth - 表示决策树深度\n",
    "# criterion - 拟合的标准\n",
    "# random_state - 随机种子\n",
    "dt_clf = DecisionTreeClassifier(max_depth = 2, criterion = \"entropy\", random_state= 42)\n",
    "dt_clf.fit(X,y)"
   ]
  },
  {
   "cell_type": "code",
   "execution_count": 32,
   "metadata": {},
   "outputs": [
    {
     "data": {
      "image/png": "[encoded data removed]",
      "text/plain": [
       "<Figure size 432x288 with 1 Axes>"
      ]
     },
     "metadata": {},
     "output_type": "display_data"
    }
   ],
   "source": [
    "# plot the decision tree boundary\n",
    "plot_decision_boundary(dt_clf, axis=[0.5,7.5, 0,3])\n",
    "plt.scatter(X[y==0,0], X[y==0,1])\n",
    "plt.scatter(X[y==1,0], X[y==1,1])\n",
    "plt.scatter(X[y==2,0], X[y==2,1])\n",
    "plt.show()"
   ]
  },
  {
   "cell_type": "code",
   "execution_count": 33,
   "metadata": {},
   "outputs": [],
   "source": [
    "import numpy as np    \n",
    "import matplotlib.pyplot as plt   \n",
    "#x = np.arange(-4,5,1)  \n",
    "#y = np.array((x>=-2)&(x<2),dtype='int')  \n",
    "\n",
    "#--------------------------------------\n",
    "#print ('x = ', x)\n",
    "#print ('y  = ',y)\n",
    "#print ('x[y==1] = ',x[y==1])\n",
    "#print ('x[y==0] = ',x[y==0])\n",
    "\n",
    "#--------------------------------------\n",
    "#plt.scatter(x[y==0],[0]*len(x[y==0]))  \n",
    "#plt.scatter(x[y==1],[0]*len(x[y==1]))  \n",
    "#plt.show()#这时候数据是线性不可分的，需要通过核函数映射到高维空间 "
   ]
  },
  {
   "cell_type": "markdown",
   "metadata": {},
   "source": [
    "### 3.模拟使用信息熵来做数据的划分"
   ]
  },
  {
   "cell_type": "code",
   "execution_count": 34,
   "metadata": {},
   "outputs": [],
   "source": [
    "### 3.1 定义split 函数"
   ]
  },
  {
   "cell_type": "code",
   "execution_count": 35,
   "metadata": {},
   "outputs": [],
   "source": [
    "from sklearn import datasets \n",
    "iris = datasets.load_iris()\n",
    "X    = iris.data[:,2:] # 行数不限制，只从第3列开始取出 ,正常情况下的数据集行数是140， 列数是 4 \n",
    "y    = iris.target"
   ]
  },
  {
   "cell_type": "code",
   "execution_count": 36,
   "metadata": {},
   "outputs": [],
   "source": [
    "def split(X,y,d,value):\n",
    "    # 在决策边界左边的值，在维度为d小于value 的所用index-left\n",
    "    # 在决策边界右边的值，在维度为d小于value 的所用index-right \n",
    "    index_left   = (X[:,d]<= value)\n",
    "    index_right  = (X[:,d]>value)\n",
    "    return X[index_left],X[index_right],y[index_left],y[index_right]"
   ]
  },
  {
   "cell_type": "code",
   "execution_count": 37,
   "metadata": {},
   "outputs": [
    {
     "data": {
      "text/plain": [
       "(150, 2)"
      ]
     },
     "execution_count": 37,
     "metadata": {},
     "output_type": "execute_result"
    }
   ],
   "source": [
    "X.shape"
   ]
  },
  {
   "cell_type": "code",
   "execution_count": 38,
   "metadata": {},
   "outputs": [],
   "source": [
    "### 试着在各个节点上找到是信息熵最小时对应的划分情况"
   ]
  },
  {
   "cell_type": "code",
   "execution_count": 39,
   "metadata": {},
   "outputs": [
    {
     "data": {
      "text/plain": [
       "dict_keys([0, 1, 2])"
      ]
     },
     "execution_count": 39,
     "metadata": {},
     "output_type": "execute_result"
    }
   ],
   "source": [
    "from collections import Counter \n",
    "from math import log\n",
    "\n",
    "# Counter(y) \n",
    "Counter(y).keys()\n",
    "  "
   ]
  },
  {
   "cell_type": "code",
   "execution_count": 40,
   "metadata": {},
   "outputs": [
    {
     "data": {
      "text/plain": [
       "150"
      ]
     },
     "execution_count": 40,
     "metadata": {},
     "output_type": "execute_result"
    }
   ],
   "source": [
    "len(X)"
   ]
  },
  {
   "cell_type": "code",
   "execution_count": 41,
   "metadata": {},
   "outputs": [],
   "source": [
    "#np.argsort(X[:,1])"
   ]
  },
  {
   "cell_type": "code",
   "execution_count": 42,
   "metadata": {},
   "outputs": [
    {
     "data": {
      "text/plain": [
       "2"
      ]
     },
     "execution_count": 42,
     "metadata": {},
     "output_type": "execute_result"
    }
   ],
   "source": [
    "X.shape[1]"
   ]
  },
  {
   "cell_type": "code",
   "execution_count": 43,
   "metadata": {},
   "outputs": [],
   "source": [
    "# 定义信息熵\n",
    "from collections import Counter \n",
    "from math import log \n",
    "def entropy(y):\n",
    "    counter = Counter(y) #  计算y中vlaues and key \n",
    "    res  = 0 \n",
    "    for num in counter.values():\n",
    "        p = num/len(y)   \n",
    "        res += -p*log(p)\n",
    "        return res"
   ]
  },
  {
   "cell_type": "code",
   "execution_count": 44,
   "metadata": {},
   "outputs": [],
   "source": [
    "# 通过遍历所以特征值来寻找最小信息熵对应的数据样本\n",
    "def try_split(X,y):\n",
    "    \n",
    "    # 预定义\n",
    "    best_entropy = float('inf')  # 无穷大\n",
    "    best_d, best_value = -1,-1 \n",
    "    \n",
    "    # 遍历搜索\n",
    "    # shape[1] -列\n",
    "    for d in range(X.shape[1]):\n",
    "        # 先对第d个维度排序\n",
    "        sorted_index = np.argsort(X[:,d]) \n",
    "        # len(X) 表示对样本总数。for i in len(x) 对样本做所有的遍历\n",
    "        for i in range(1,len(X)):  #Len(X) - 表示X行数，也就是样本数目\n",
    "            if X[sorted_index[i],d] != X[sorted_index[i-1],d]:\n",
    "                values = (X[sorted_index[i],d] + X[sorted_index[i-1],d])/2\n",
    "                \n",
    "                X_l,X_r, y_l,y_r = split(X,y,d,values)\n",
    "                p_l,p_r = len(X_l)/len(X),len(X_r)/len(X)\n",
    "                e = p_l*entropy(y_l) + p_r*entropy(y_r)\n",
    "               \n",
    "                if e< best_entropy:\n",
    "                    best_entropy,best_d,best_v = e,d,values\n",
    "                \n",
    "    return best_entropy,best_d,best_value"
   ]
  },
  {
   "cell_type": "code",
   "execution_count": 45,
   "metadata": {},
   "outputs": [
    {
     "name": "stdout",
     "output_type": "stream",
     "text": [
      "best_entropy = : 0.030767470112275066\n",
      "best_d = : 1\n",
      "best_v = : -1\n"
     ]
    }
   ],
   "source": [
    "### 寻找最优值\n",
    "best_entropy,best_d,best_v = try_split(X,y)\n",
    "   \n",
    "\n",
    "# print \n",
    "print(\"best_entropy = :\",best_entropy)\n",
    "print(\"best_d = :\",best_d)\n",
    "print(\"best_v = :\",best_v)\n",
    "        "
   ]
  },
  {
   "cell_type": "markdown",
   "metadata": {},
   "source": [
    "### 4.模拟使用基尼系数来做数据的划分"
   ]
  },
  {
   "cell_type": "code",
   "execution_count": 46,
   "metadata": {},
   "outputs": [],
   "source": [
    "from collections import Counter\n",
    "from math import log\n",
    "\n",
    "def entropy(y):\n",
    "    counter = Counter(y)\n",
    "    res = 0.0\n",
    "    for num in counter.values():\n",
    "        p = num / len(y)\n",
    "        res += -p * log(p)\n",
    "    return res\n",
    "\n",
    "def try_split(X, y):\n",
    "    \n",
    "    best_entropy = float('inf')\n",
    "    best_d, best_v = -1, -1\n",
    "    for d in range(X.shape[1]):\n",
    "        sorted_index = np.argsort(X[:,d])\n",
    "        for i in range(1, len(X)):\n",
    "            if X[sorted_index[i], d] != X[sorted_index[i-1], d]:\n",
    "                v = (X[sorted_index[i], d] + X[sorted_index[i-1], d])/2\n",
    "                X_l, X_r, y_l, y_r = split(X, y, d, v)\n",
    "                p_l, p_r = len(X_l) / len(X), len(X_r) / len(X)\n",
    "                e = p_l * entropy(y_l) + p_r * entropy(y_r)\n",
    "                if e < best_entropy:\n",
    "                    best_entropy, best_d, best_v = e, d, v\n",
    "                \n",
    "    return best_entropy, best_d, best_v\n"
   ]
  },
  {
   "cell_type": "code",
   "execution_count": 47,
   "metadata": {},
   "outputs": [
    {
     "name": "stdout",
     "output_type": "stream",
     "text": [
      "best_entropy = : 0.46209812037329684\n",
      "best_d = : 0\n",
      "best_v = : 2.45\n"
     ]
    }
   ],
   "source": [
    "### 寻找最优值\n",
    "best_entropy,best_d,best_v = try_split(X,y)\n",
    "   \n",
    "\n",
    "# print \n",
    "print(\"best_entropy = :\",best_entropy)\n",
    "print(\"best_d = :\",best_d)\n",
    "print(\"best_v = :\",best_v)"
   ]
  },
  {
   "cell_type": "markdown",
   "metadata": {},
   "source": [
    "### 5.通过sklearn 自带的gini系数构建分类器"
   ]
  },
  {
   "cell_type": "code",
   "execution_count": 56,
   "metadata": {},
   "outputs": [
    {
     "data": {
      "text/plain": [
       "DecisionTreeClassifier(class_weight=None, criterion='gini', max_depth=2,\n",
       "            max_features=None, max_leaf_nodes=None,\n",
       "            min_impurity_decrease=0.0, min_impurity_split=None,\n",
       "            min_samples_leaf=1, min_samples_split=2,\n",
       "            min_weight_fraction_leaf=0.0, presort=False, random_state=42,\n",
       "            splitter='best')"
      ]
     },
     "execution_count": 56,
     "metadata": {},
     "output_type": "execute_result"
    }
   ],
   "source": [
    "from sklearn.tree import DecisionTreeClassifier\n",
    "\n",
    "# max_depth - 表示决策树深度\n",
    "# criterion - gini 系数\n",
    "# random_state - 随机种子\n",
    "dt_clf = DecisionTreeClassifier(max_depth = 2, criterion = \"gini\", random_state= 42)\n",
    "dt_clf.fit(X,y)"
   ]
  },
  {
   "cell_type": "code",
   "execution_count": 59,
   "metadata": {},
   "outputs": [
    {
     "data": {
      "image/png": "[encoded data removed]",
      "text/plain": [
       "<Figure size 432x288 with 1 Axes>"
      ]
     },
     "metadata": {},
     "output_type": "display_data"
    }
   ],
   "source": [
    "# plot decision boundary\n",
    "plot_decision_boundary(dt_clf, axis=[0.5,7.5, 0,3])\n",
    "plt.scatter(X[y == 0,0], X[y == 0,1])\n",
    "plt.scatter(X[y == 1,0], X[y == 1,1])\n",
    "plt.scatter(X[y == 2,0], X[y == 2,1])\n",
    "plt.show()"
   ]
  },
  {
   "cell_type": "code",
   "execution_count": 80,
   "metadata": {},
   "outputs": [],
   "source": []
  },
  {
   "cell_type": "code",
   "execution_count": 83,
   "metadata": {},
   "outputs": [],
   "source": []
  },
  {
   "cell_type": "code",
   "execution_count": null,
   "metadata": {},
   "outputs": [],
   "source": []
  },
  {
   "cell_type": "code",
   "execution_count": null,
   "metadata": {},
   "outputs": [],
   "source": []
  },
  {
   "cell_type": "code",
   "execution_count": null,
   "metadata": {},
   "outputs": [],
   "source": []
  }
 ],
 "metadata": {
  "kernelspec": {
   "display_name": "Python 3",
   "language": "python",
   "name": "python3"
  },
  "language_info": {
   "codemirror_mode": {
    "name": "ipython",
    "version": 3
   },
   "file_extension": ".py",
   "mimetype": "text/x-python",
   "name": "python",
   "nbconvert_exporter": "python",
   "pygments_lexer": "ipython3",
   "version": "3.6.3"
  }
 },
 "nbformat": 4,
 "nbformat_minor": 2
}
