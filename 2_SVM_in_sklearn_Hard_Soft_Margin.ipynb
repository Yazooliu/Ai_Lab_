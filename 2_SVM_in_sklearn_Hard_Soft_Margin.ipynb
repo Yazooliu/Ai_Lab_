{
 "cells": [
  {
   "cell_type": "markdown",
   "metadata": {},
   "source": [
    "### SVM in sklearn Hard and Soft Margin "
   ]
  },
  {
   "cell_type": "code",
   "execution_count": 188,
   "metadata": {},
   "outputs": [],
   "source": [
    "#  Copyright private in 2018 \n",
    "#  Modify Date: \n",
    "#      2018-9-19\n",
    "#  Purpose : \n",
    "#      SVM learning \n",
    "# \n",
    "# ----------\n",
    "#coding:utf-8\n",
    "# import model or lib\n",
    "import numpy as np\n",
    "import matplotlib.pyplot as plt\n",
    "from  sklearn import datasets\n",
    "\n"
   ]
  },
  {
   "cell_type": "code",
   "execution_count": null,
   "metadata": {},
   "outputs": [],
   "source": []
  },
  {
   "cell_type": "code",
   "execution_count": 159,
   "metadata": {},
   "outputs": [
    {
     "data": {
      "image/png": "[encoded data removed]",
      "text/plain": [
       "<Figure size 432x288 with 1 Axes>"
      ]
     },
     "metadata": {},
     "output_type": "display_data"
    }
   ],
   "source": [
    "# 1 Data sets preparation \n",
    "iris = datasets.load_iris()\n",
    "\n",
    "X = iris.data\n",
    "y = iris.target\n",
    "\n",
    "# y = 0,1 表示二分类问题   :2 表示取前两个特征\n",
    "X = X[y<2,:2]\n",
    "y = y[y<2]\n",
    "\n",
    "# plot show \n",
    "# plt.figure(figsize = (6,3))\n",
    "plt.scatter(X[y == 0,0], X[y == 0,1],color = 'r')\n",
    "plt.scatter(X[y == 1,0], X[y == 1,1],color = 'b')\n",
    "plt.title(\"raw data\")\n",
    "plt.xlabel('X')\n",
    "plt.ylabel('y')\n",
    "plt.show()"
   ]
  },
  {
   "cell_type": "code",
   "execution_count": 160,
   "metadata": {},
   "outputs": [],
   "source": [
    "# 2 跟KNN算法一样，先数据标准化以消除数据尺度对决策边界的影响\n",
    "from sklearn.preprocessing import StandardScaler\n",
    "\n",
    "standardScaler= StandardScaler()  # 数据标准化处理\n",
    "standardScaler.fit(X)\n",
    "X_standard = standardScaler.transform(X)  # transform(X)\n",
    "\n"
   ]
  },
  {
   "cell_type": "markdown",
   "metadata": {},
   "source": [
    "### 1. Set C value to big: 1e6"
   ]
  },
  {
   "cell_type": "code",
   "execution_count": 161,
   "metadata": {},
   "outputs": [
    {
     "data": {
      "text/plain": [
       "LinearSVC(C=1000000.0, class_weight=None, dual=True, fit_intercept=True,\n",
       "     intercept_scaling=1, loss='squared_hinge', max_iter=1000,\n",
       "     multi_class='ovr', penalty='l2', random_state=None, tol=0.0001,\n",
       "     verbose=0)"
      ]
     },
     "execution_count": 161,
     "metadata": {},
     "output_type": "execute_result"
    }
   ],
   "source": [
    "# fit the datasets - 线性SVM\n",
    "# set C value to big value 1e3\n",
    "from sklearn.svm import LinearSVC\n",
    "\n",
    "#  C = 1e6 越大越偏向于hard margin SVM　容错空间更小\n",
    "svc = LinearSVC(C=1e6)\n",
    "svc.fit(X_standard,y)"
   ]
  },
  {
   "cell_type": "code",
   "execution_count": 162,
   "metadata": {},
   "outputs": [],
   "source": [
    "# 3 plot the decision boundary\n",
    "def plot_decision_bounary(model, axis):\n",
    "    x0,x1 = np.meshgrid(\n",
    "        np.linspace(axis[0],axis[1], int( (axis[1]-axis[0])*100)).reshape(-1,1),\n",
    "        np.linspace(axis[2],axis[3], int( (axis[3]-axis[2])*100)).reshape(-1,1),\n",
    "    )\n",
    "    \n",
    "    x_new          =   np.c_[x0.ravel(), x1.ravel()]\n",
    "    y_prediction   =   model.predict(x_new)\n",
    "    y_prediction   =   y_prediction.reshape(x0.shape)\n",
    "    \n",
    "    \n",
    "    from matplotlib.colors import ListedColormap\n",
    "    custom_map  = ListedColormap(['#EF9A9A', '#FFF59D', '#90CAF9'])\n",
    "    \n",
    "    plt.contourf(x0,x1,y_prediction, linewidth= 2, cmap = custom_map)\n",
    "    "
   ]
  },
  {
   "cell_type": "code",
   "execution_count": 163,
   "metadata": {},
   "outputs": [
    {
     "name": "stderr",
     "output_type": "stream",
     "text": [
      "c:\\users\\h155809\\appdata\\local\\programs\\python\\python36\\lib\\site-packages\\matplotlib\\contour.py:1004: UserWarning: The following kwargs were not used by contour: 'linewidth'\n",
      "  s)\n"
     ]
    },
    {
     "data": {
      "image/png": "[encoded data removed]",
      "text/plain": [
       "<Figure size 432x288 with 1 Axes>"
      ]
     },
     "metadata": {},
     "output_type": "display_data"
    }
   ],
   "source": [
    "# call plot_decision_bounary to show the boundary \n",
    "plot_decision_bounary(svc,axis = [-3,3,-3,3])\n",
    "\n",
    "plt.scatter(X_standard[y ==0,0], X_standard[y == 0,1])\n",
    "plt.scatter(X_standard[y ==1,0], X_standard[y == 1,1])\n",
    "plt.show()\n",
    "\n",
    "## 分析：\n",
    "# C 很大时，相当于hard margin SVM"
   ]
  },
  {
   "cell_type": "markdown",
   "metadata": {},
   "source": [
    "### 2.Set C value to small: 1e-2"
   ]
  },
  {
   "cell_type": "code",
   "execution_count": 174,
   "metadata": {},
   "outputs": [
    {
     "data": {
      "text/plain": [
       "LinearSVC(C=0.01, class_weight=None, dual=True, fit_intercept=True,\n",
       "     intercept_scaling=1, loss='squared_hinge', max_iter=1000,\n",
       "     multi_class='ovr', penalty='l2', random_state=None, tol=0.0001,\n",
       "     verbose=0)"
      ]
     },
     "execution_count": 174,
     "metadata": {},
     "output_type": "execute_result"
    }
   ],
   "source": [
    "# C 变小成为soft margin SVM, 允许容错空间更大，下图中的蓝色点被错误分成了红色区域 \n",
    "from sklearn.svm import LinearSVC\n",
    "svc001  = LinearSVC(C=1e-2)\n",
    "svc001.fit(X_standard,y)\n"
   ]
  },
  {
   "cell_type": "code",
   "execution_count": 175,
   "metadata": {},
   "outputs": [
    {
     "name": "stderr",
     "output_type": "stream",
     "text": [
      "c:\\users\\h155809\\appdata\\local\\programs\\python\\python36\\lib\\site-packages\\matplotlib\\contour.py:1004: UserWarning: The following kwargs were not used by contour: 'linewidth'\n",
      "  s)\n"
     ]
    },
    {
     "data": {
      "image/png": "[encoded data removed]",
      "text/plain": [
       "<Figure size 432x288 with 1 Axes>"
      ]
     },
     "metadata": {},
     "output_type": "display_data"
    }
   ],
   "source": [
    "plot_decision_bounary(svc001,axis = [-3,3,-3,3])\n",
    "plt.scatter(X_standard[y ==0,0], X_standard[y == 0,1])\n",
    "plt.scatter(X_standard[y ==1,0], X_standard[y == 1,1])\n",
    "plt.show()"
   ]
  },
  {
   "cell_type": "code",
   "execution_count": 173,
   "metadata": {},
   "outputs": [
    {
     "data": {
      "text/plain": [
       "array([[ 0.11775397, -0.1101242 ]])"
      ]
     },
     "execution_count": 173,
     "metadata": {},
     "output_type": "execute_result"
    }
   ],
   "source": [
    "# \n",
    "svc001.coef_\n",
    "# \n"
   ]
  },
  {
   "cell_type": "code",
   "execution_count": 172,
   "metadata": {},
   "outputs": [
    {
     "data": {
      "text/plain": [
       "array([-2.4916194e-09])"
      ]
     },
     "execution_count": 172,
     "metadata": {},
     "output_type": "execute_result"
    }
   ],
   "source": [
    "svc001.intercept_"
   ]
  },
  {
   "cell_type": "markdown",
   "metadata": {},
   "source": [
    "### 3.二分类问题 "
   ]
  },
  {
   "cell_type": "code",
   "execution_count": 166,
   "metadata": {},
   "outputs": [
    {
     "data": {
      "text/plain": [
       "array([[ 4.03241   , -2.49294424]])"
      ]
     },
     "execution_count": 166,
     "metadata": {},
     "output_type": "execute_result"
    }
   ],
   "source": [
    "# decision boundary - 权重 w[0], w[1]\n",
    "# w[0] = svc.coef_[0][0]\n",
    "# w[1] = svc.coef_[0][1]\n",
    "# b  = svc.intercept_\n",
    "# \n",
    "svc.coef_"
   ]
  },
  {
   "cell_type": "code",
   "execution_count": 167,
   "metadata": {},
   "outputs": [
    {
     "data": {
      "text/plain": [
       "-2.492944237075333"
      ]
     },
     "execution_count": 167,
     "metadata": {},
     "output_type": "execute_result"
    }
   ],
   "source": [
    "svc.coef_[0][1]"
   ]
  },
  {
   "cell_type": "code",
   "execution_count": 168,
   "metadata": {},
   "outputs": [
    {
     "data": {
      "text/plain": [
       "0.9536413374601439"
      ]
     },
     "execution_count": 168,
     "metadata": {},
     "output_type": "execute_result"
    }
   ],
   "source": [
    "\n",
    "svc.intercept_[0]"
   ]
  },
  {
   "cell_type": "markdown",
   "metadata": {},
   "source": [
    "### 3.1 依赖上述coef_ 值和 intercept_  值画出 容错边界"
   ]
  },
  {
   "cell_type": "code",
   "execution_count": 169,
   "metadata": {},
   "outputs": [],
   "source": [
    "# \n",
    "def plot_decision_bounary_softmargin(model, axis):\n",
    "    x0,x1 = np.meshgrid(\n",
    "        np.linspace(axis[0],axis[1], int( (axis[1]-axis[0])*100)).reshape(-1,1),\n",
    "        np.linspace(axis[2],axis[3], int( (axis[3]-axis[2])*100)).reshape(-1,1),\n",
    "    )\n",
    "    \n",
    "    x_new          =   np.c_[x0.ravel(), x1.ravel()]\n",
    "    y_prediction   =   model.predict(x_new)\n",
    "    y_prediction   =   y_prediction.reshape(x0.shape)\n",
    "    \n",
    "    \n",
    "    from matplotlib.colors import ListedColormap\n",
    "    custom_map  = ListedColormap(['#EF9A9A', '#FFF59D', '#90CAF9'])\n",
    "    \n",
    "    plt.contourf(x0,x1,y_prediction, linewidth= 2, cmap = custom_map)\n",
    "    \n",
    "    w0 = model.coef_[0][0]\n",
    "    w1 = model.coef_[0][1]\n",
    "    b  = model.intercept_[0]\n",
    "    \n",
    "    # w0*x0 + w1*x1 + b = 0\n",
    "    # => : x1 = - b/w1 - (w0/w1)*x0 \n",
    "    \n",
    "    # softmargin line1：w0*x0 + w1*x1 + b =  1\n",
    "    # =>: x1 = - b/w1 - (w0/w1)*x0 + 1/w1\n",
    "     \n",
    "    # softmargin line2: w0*x0 + w1*x1 + b = -1\n",
    "    # =>: x1 = - b/w1 - (w0/w1)*x0 - 1/w1\n",
    "    \n",
    "    # 一元线性方程\n",
    "    # mark x0 = x, x1 = y \n",
    "    # Ax + By + C = 0 \n",
    "    \n",
    "    # plot the figure \n",
    "    plot_x        = np.linspace(axis[0],axis[1],200)\n",
    "    plot_y_up     = -(w0/w1)*plot_x +  (1 - b)/w1\n",
    "    plot_y_down   = -(w0/w1)*plot_x +  (-1 - b)/w1\n",
    "    \n",
    "    # 控制y的显示范围\n",
    "    y_upindex =  (plot_y_up >= axis[2]) & (plot_y_up <= axis[3])\n",
    "    y_downindex= (plot_y_down>=axis[2]) & (plot_y_down<= axis[3])\n",
    "    \n",
    "    plt.plot(plot_x[y_upindex],plot_y_up[y_upindex],      linewidth = 2, color = 'red')\n",
    "    plt.plot(plot_x[y_downindex],plot_y_down[y_downindex],linewidth = 2,color = 'blue')\n",
    "    \n",
    "    "
   ]
  },
  {
   "cell_type": "markdown",
   "metadata": {},
   "source": [
    "### 3.2 画出冗错边界"
   ]
  },
  {
   "cell_type": "code",
   "execution_count": 177,
   "metadata": {},
   "outputs": [
    {
     "name": "stderr",
     "output_type": "stream",
     "text": [
      "c:\\users\\h155809\\appdata\\local\\programs\\python\\python36\\lib\\site-packages\\matplotlib\\contour.py:1004: UserWarning: The following kwargs were not used by contour: 'linewidth'\n",
      "  s)\n"
     ]
    },
    {
     "data": {
      "image/png": "[encoded data removed]",
      "text/plain": [
       "<Figure size 432x288 with 1 Axes>"
      ]
     },
     "metadata": {},
     "output_type": "display_data"
    }
   ],
   "source": [
    "# SVC , C = 1e6 - Hard margin SVM \n",
    "plot_decision_bounary_softmargin(svc, axis =[-3,3,-3,3])\n",
    "plt.scatter(X_standard[y == 0,0],X_standard[y == 0,1])\n",
    "plt.scatter(X_standard[y == 1,0],X_standard[y == 1,1])\n",
    "plt.title('C= 1e6 - Hard Margin SVM')\n",
    "plt.show()"
   ]
  },
  {
   "cell_type": "code",
   "execution_count": 183,
   "metadata": {},
   "outputs": [
    {
     "name": "stderr",
     "output_type": "stream",
     "text": [
      "c:\\users\\h155809\\appdata\\local\\programs\\python\\python36\\lib\\site-packages\\matplotlib\\contour.py:1004: UserWarning: The following kwargs were not used by contour: 'linewidth'\n",
      "  s)\n"
     ]
    },
    {
     "data": {
      "image/png": "[encoded data removed]",
      "text/plain": [
       "<Figure size 432x288 with 1 Axes>"
      ]
     },
     "metadata": {},
     "output_type": "display_data"
    }
   ],
   "source": [
    "# SVC , C = 1e-2 - Soft Margin SVM \n",
    "plot_decision_bounary_softmargin(svc001, axis =[-3,3,-3,3])\n",
    "plt.scatter(X_standard[y == 0,0],X_standard[y == 0,1])\n",
    "plt.scatter(X_standard[y == 1,0],X_standard[y == 1,1])\n",
    "plt.title(\"1e-2 - Soft Margin SVM\")\n",
    "\n",
    "plt.show()"
   ]
  },
  {
   "cell_type": "code",
   "execution_count": null,
   "metadata": {},
   "outputs": [],
   "source": [
    "\n"
   ]
  },
  {
   "cell_type": "code",
   "execution_count": null,
   "metadata": {},
   "outputs": [],
   "source": []
  },
  {
   "cell_type": "code",
   "execution_count": null,
   "metadata": {},
   "outputs": [],
   "source": []
  },
  {
   "cell_type": "code",
   "execution_count": null,
   "metadata": {},
   "outputs": [],
   "source": []
  }
 ],
 "metadata": {
  "kernelspec": {
   "display_name": "Python 3",
   "language": "python",
   "name": "python3"
  },
  "language_info": {
   "codemirror_mode": {
    "name": "ipython",
    "version": 3
   },
   "file_extension": ".py",
   "mimetype": "text/x-python",
   "name": "python",
   "nbconvert_exporter": "python",
   "pygments_lexer": "ipython3",
   "version": "3.6.3"
  }
 },
 "nbformat": 4,
 "nbformat_minor": 2
}
