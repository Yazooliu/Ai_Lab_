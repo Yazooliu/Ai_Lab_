{
 "cells": [
  {
   "cell_type": "code",
   "execution_count": 3,
   "metadata": {},
   "outputs": [],
   "source": [
    "import numpy as np\n",
    "import matplotlib.pyplot as plt\n",
    "from sklearn import datasets\n",
    "iris = datasets.load_iris() # 鸢尾花数据集\n",
    "X    = iris.data[:,2:]  # 取出数据集的后面两个列作为两个维度\n",
    "y    = iris.target\n"
   ]
  },
  {
   "cell_type": "code",
   "execution_count": 19,
   "metadata": {},
   "outputs": [
    {
     "data": {
      "image/png": "[encoded data removed]",
      "text/plain": [
       "<Figure size 432x288 with 1 Axes>"
      ]
     },
     "metadata": {},
     "output_type": "display_data"
    }
   ],
   "source": [
    "plt.scatter(X[y == 0,0], X[y == 0,1])\n",
    "plt.scatter(X[y == 1,0], X[y == 1,1])\n",
    "plt.scatter(X[y == 2,0], X[y == 2,1])\n",
    "plt.show()"
   ]
  },
  {
   "cell_type": "code",
   "execution_count": 121,
   "metadata": {},
   "outputs": [
    {
     "data": {
      "text/plain": [
       "DecisionTreeClassifier(class_weight=None, criterion='entropy', max_depth=2,\n",
       "            max_features=None, max_leaf_nodes=None,\n",
       "            min_impurity_decrease=0.0, min_impurity_split=None,\n",
       "            min_samples_leaf=1, min_samples_split=2,\n",
       "            min_weight_fraction_leaf=0.0, presort=False, random_state=None,\n",
       "            splitter='best')"
      ]
     },
     "execution_count": 121,
     "metadata": {},
     "output_type": "execute_result"
    }
   ],
   "source": [
    "# 构建决策树分类器\n",
    "from sklearn.tree import DecisionTreeClassifier\n",
    "dt_clf = DecisionTreeClassifier(max_depth = 2, criterion = 'entropy') # 通过信息熵的\n",
    "dt_clf.fit(X, y)"
   ]
  },
  {
   "cell_type": "code",
   "execution_count": 86,
   "metadata": {},
   "outputs": [],
   "source": [
    "#利用信息熵来做决策树边界\n",
    "def plot_decision_boundary(model,axis):\n",
    "     x0,x1 = np.meshgrid(\n",
    "         np.linspace(axis[0],axis[1], int((axis[1] - axis[0])*100 )).reshape(-1,1),\n",
    "         np.linspace(axis[2],axis[3], int((axis[3] - axis[2])*100 )).reshape(-1,1)\n",
    "     )\n",
    "     X_new = np.c_[x0.ravel(),x1.ravel()]\n",
    "     y_predict  = model.predict(X_new)\n",
    "     zz         = y_predict.reshape(x0.shape)\n",
    "     from matplotlib.colors import ListedColormap \n",
    "     custom_cmap = ListedColormap (['#EF9A00','#FFF89D', '#90CAF9'])\n",
    "     plt.contourf(x0,x1,zz,cmap = custom_cmap )\n",
    "     plt.colorbar(orientation = 'horizontal')  # 增加水平colorbar \n",
    "     plt.colorbar(orientation = 'vertical' )   # 增加垂直colorbar\n",
    "     "
   ]
  },
  {
   "cell_type": "code",
   "execution_count": 102,
   "metadata": {},
   "outputs": [
    {
     "data": {
      "image/png": "[encoded data removed]",
      "text/plain": [
       "<Figure size 432x288 with 3 Axes>"
      ]
     },
     "metadata": {},
     "output_type": "display_data"
    }
   ],
   "source": [
    "plot_decision_boundary(dt_clf, axis  = [0.5, 7.5, 0, 3])\n",
    "plt.scatter(X[y == 0,0], X[y == 0,1], color  = 'r')\n",
    "plt.scatter(X[y == 1,0], X[y == 1,1], color  = 'g')\n",
    "plt.scatter(X[y == 2,0], X[y == 2,1], color  = 'b')\n",
    "plt.show()"
   ]
  },
  {
   "cell_type": "markdown",
   "metadata": {},
   "source": [
    "# 模拟使用信息熵划分"
   ]
  },
  {
   "cell_type": "code",
   "execution_count": 122,
   "metadata": {},
   "outputs": [],
   "source": [
    "def split(x, y, d,value) : # x is put , y the classifier output, d is dimensions, value is the split value of this dim\n",
    "    index_a =  (X[:,d]<= value)  #输入样本在维度d上小于等于value 的值  \n",
    "    index_b =  (X[:,d]> value)  # 大于value的索引\n",
    "    return X[index_a], X[index_b], y[index_a], y[index_b]\n"
   ]
  },
  {
   "cell_type": "code",
   "execution_count": 153,
   "metadata": {},
   "outputs": [],
   "source": [
    "from collections import Counter\n",
    "from math import log \n",
    "def entropy(y):\n",
    "    counter  = Counter(y)\n",
    "    res = 0.0\n",
    "    for num in  counter.values():\n",
    "        p =  num/ len(y)\n",
    "        res +=  -p*np.log(p)\n",
    "    return res \n",
    "     \n",
    "#------------------------------\n",
    "#  在数据集上寻找d 维度和value 值\n",
    "def try_split(X,y):\n",
    "    best_entropy = float('inf')\n",
    "    best_b,best_v = -1,-1\n",
    "    # shape[0] 表示多少上。shape[1]表示多少列\n",
    "    for d in range(X.shape[1]):\n",
    "         sorted_index  = np.argsort(X[:,d]) # d 维度上数组排序的索引值\n",
    "         for i in range(1,len(X)):\n",
    "           if (X[sorted_index[i-1],d] !=  X[sorted_index[i],d] ):\n",
    "               v = (X[sorted_index[i-1], d] + X[sorted_index[i], 1]) / 2\n",
    "               X_l,X_r,y_l,y_r  = split(X,y,d,v)\n",
    "               e =  entropy(y_l)  + entropy(y_r)  # 在这个结点这个维度值上划分结点信息熵\n",
    "               if e < best_entropy: \n",
    "                  best_entropy, best_d,best_v = e,d,v\n",
    "    return best_entropy,best_d,best_v\n",
    "                  "
   ]
  },
  {
   "cell_type": "code",
   "execution_count": 154,
   "metadata": {},
   "outputs": [
    {
     "name": "stdout",
     "output_type": "stream",
     "text": [
      "best_entropy =  0.6931471805599453\n",
      "best_d =  0\n",
      "best_v =  2.0\n"
     ]
    }
   ],
   "source": [
    "# 调用try_split  函数\n",
    "best_entropy, best_d,best_v = try_split(X,y)\n",
    "print(\"best_entropy = \",best_entropy)\n",
    "print(\"best_d = \", best_d)\n",
    "print(\"best_v = \", best_v)"
   ]
  },
  {
   "cell_type": "code",
   "execution_count": 155,
   "metadata": {},
   "outputs": [],
   "source": [
    "# 尝试将划分的结果存在X1_l, X1_r \n",
    "# 将上述划分得到的best_d,best_v\n",
    "X1_l,X1_r,y1_l,y1_r = split(X,y,best_d,best_v)"
   ]
  },
  {
   "cell_type": "code",
   "execution_count": 144,
   "metadata": {},
   "outputs": [
    {
     "data": {
      "text/plain": [
       "0.0"
      ]
     },
     "execution_count": 144,
     "metadata": {},
     "output_type": "execute_result"
    }
   ],
   "source": [
    "entropy(y1_l)"
   ]
  },
  {
   "cell_type": "code",
   "execution_count": 147,
   "metadata": {},
   "outputs": [
    {
     "data": {
      "text/plain": [
       "0.6931471805599453"
      ]
     },
     "execution_count": 147,
     "metadata": {},
     "output_type": "execute_result"
    }
   ],
   "source": [
    "entropy(y1_r)"
   ]
  },
  {
   "cell_type": "code",
   "execution_count": 159,
   "metadata": {},
   "outputs": [],
   "source": [
    " X2_l,X2_r,y2_l,y2_r = split(X, y, best_d,best_v)"
   ]
  },
  {
   "cell_type": "code",
   "execution_count": 161,
   "metadata": {},
   "outputs": [],
   "source": [
    "def sigmoid(t):\n",
    "    return 1/ (1 + np.exp(-t))"
   ]
  },
  {
   "cell_type": "code",
   "execution_count": 194,
   "metadata": {},
   "outputs": [
    {
     "data": {
      "image/png": "[encoded data removed]",
      "text/plain": [
       "<Figure size 432x288 with 1 Axes>"
      ]
     },
     "metadata": {},
     "output_type": "display_data"
    }
   ],
   "source": [
    "a = np.linspace(-10,10,200)\n",
    "plt.plot(a, sigmoid(a))\n",
    "plt.show()"
   ]
  },
  {
   "cell_type": "code",
   "execution_count": 205,
   "metadata": {},
   "outputs": [
    {
     "data": {
      "image/png": "[encoded data removed]",
      "text/plain": [
       "<Figure size 432x288 with 1 Axes>"
      ]
     },
     "metadata": {},
     "output_type": "display_data"
    }
   ],
   "source": [
    "## Define the function: Softmax function\n",
    "import math\n",
    "def softmax(z):\n",
    "    z_1       = [np.exp(i) for i in z]\n",
    "    z_1_sum   = sum(z_1)\n",
    "    z_softmax = [i/z_1_sum for i in z_1]\n",
    "    plt.plot(z,z_softmax)\n",
    "    plt.show()\n",
    "\n",
    "    \n",
    "z         = np.linspace(-10,10,100)\n",
    "softmax(z)"
   ]
  },
  {
   "cell_type": "code",
   "execution_count": 180,
   "metadata": {},
   "outputs": [],
   "source": [
    "x = np.linspace(2,3,num = 5)"
   ]
  },
  {
   "cell_type": "code",
   "execution_count": 183,
   "metadata": {},
   "outputs": [],
   "source": [
    "y = sigmoid(x)"
   ]
  },
  {
   "cell_type": "code",
   "execution_count": 184,
   "metadata": {},
   "outputs": [
    {
     "name": "stdout",
     "output_type": "stream",
     "text": [
      "x =  [2.   2.25 2.5  2.75 3.  ]\n"
     ]
    }
   ],
   "source": [
    "print('x = ', x)"
   ]
  },
  {
   "cell_type": "code",
   "execution_count": 185,
   "metadata": {},
   "outputs": [
    {
     "name": "stdout",
     "output_type": "stream",
     "text": [
      "y =  [0.88079708 0.90465054 0.92414182 0.93991335 0.95257413]\n"
     ]
    }
   ],
   "source": [
    "print('y = ', y)"
   ]
  },
  {
   "cell_type": "code",
   "execution_count": 187,
   "metadata": {},
   "outputs": [
    {
     "data": {
      "text/plain": [
       "[<matplotlib.lines.Line2D at 0x1d84b4a8cc0>]"
      ]
     },
     "execution_count": 187,
     "metadata": {},
     "output_type": "execute_result"
    },
    {
     "data": {
      "image/png": "[encoded data removed]",
      "text/plain": [
       "<Figure size 432x288 with 1 Axes>"
      ]
     },
     "metadata": {},
     "output_type": "display_data"
    }
   ],
   "source": [
    "plt.plot(x,y)"
   ]
  },
  {
   "cell_type": "code",
   "execution_count": null,
   "metadata": {},
   "outputs": [],
   "source": []
  }
 ],
 "metadata": {
  "kernelspec": {
   "display_name": "Python 3",
   "language": "python",
   "name": "python3"
  },
  "language_info": {
   "codemirror_mode": {
    "name": "ipython",
    "version": 3
   },
   "file_extension": ".py",
   "mimetype": "text/x-python",
   "name": "python",
   "nbconvert_exporter": "python",
   "pygments_lexer": "ipython3",
   "version": "3.6.3"
  }
 },
 "nbformat": 4,
 "nbformat_minor": 2
}
