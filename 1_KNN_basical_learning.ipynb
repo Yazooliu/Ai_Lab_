{
 "cells": [
  {
   "cell_type": "markdown",
   "metadata": {},
   "source": [
    "## Ch1 - KNN "
   ]
  },
  {
   "cell_type": "code",
   "execution_count": 27,
   "metadata": {},
   "outputs": [],
   "source": [
    "#  Copyright private in 2018 \n",
    "#  Modify Date: \n",
    "#  \n",
    "#  Purpose :  \n",
    "# \n",
    "# ----------\n",
    "import numpy as np\n",
    "import matplotlib.pyplot as plt "
   ]
  },
  {
   "cell_type": "code",
   "execution_count": 28,
   "metadata": {},
   "outputs": [],
   "source": [
    "# Raw Data Setting \n",
    "raw_data_X = [[3.123533211, 2.331273381],\n",
    "              [4.110073483, 1.781539638],\n",
    "              [1.343808831, 3.368360954],\n",
    "              [2.582294042, 4.679179110],\n",
    "              [4.280362439, 2.866990263],\n",
    "              [7.423436942, 4.696522875],\n",
    "              [5.745051997, 3.533989803],\n",
    "              [9.172168622, 2.511101045],\n",
    "              [7.792783481, 3.424088941],\n",
    "              [7.939820817, 0.791637231]\n",
    "             ]\n",
    "raw_data_y = [0, 0, 0, 0, 0, 1, 1, 1, 1, 1]"
   ]
  },
  {
   "cell_type": "code",
   "execution_count": 29,
   "metadata": {},
   "outputs": [],
   "source": [
    "# Training Data Ready to array\n",
    "X_train  = np.array(raw_data_X)\n",
    "y_train  = np.array(raw_data_y)"
   ]
  },
  {
   "cell_type": "code",
   "execution_count": 30,
   "metadata": {},
   "outputs": [
    {
     "data": {
      "image/png": "[encoded data removed]",
      "text/plain": [
       "<Figure size 432x288 with 1 Axes>"
      ]
     },
     "metadata": {
      "needs_background": "light"
     },
     "output_type": "display_data"
    }
   ],
   "source": [
    "# Data Visualization \n",
    "plt.scatter(X_train[y_train == 0,0],  X_train[y_train == 0,1], color = 'r')\n",
    "plt.scatter(X_train[y_train == 1,0],  X_train[y_train == 1,1], color = 'b')\n",
    "plt.show()"
   ]
  },
  {
   "cell_type": "code",
   "execution_count": 31,
   "metadata": {},
   "outputs": [],
   "source": [
    "# New Data\n",
    "x = np.array([8.172168622, 3.511101045])\n",
    "\n",
    "## KNN Algroim \n",
    "from math import sqrt \n",
    "distances = []\n",
    "for x_trian in X_train:\n",
    "    d =  sqrt((np.sum(x_trian - x)**2))\n",
    "    distances.append(d)\n",
    "\n",
    "# argsort- 返回从小到大的索引\n",
    "nearest  =  np.argsort(distances)\n",
    "\n",
    "# K - Value\n",
    "k  = 6 \n",
    "# 取前 K= 6 的距离最小的 Value \n",
    "x_index        = nearest[:k]\n",
    "y_train_index  = y_train[x_index]"
   ]
  },
  {
   "cell_type": "code",
   "execution_count": 32,
   "metadata": {},
   "outputs": [
    {
     "data": {
      "text/plain": [
       "array([1, 1, 1, 1, 1, 0])"
      ]
     },
     "execution_count": 32,
     "metadata": {},
     "output_type": "execute_result"
    }
   ],
   "source": [
    "y_train_index"
   ]
  },
  {
   "cell_type": "code",
   "execution_count": 33,
   "metadata": {},
   "outputs": [
    {
     "data": {
      "text/plain": [
       "[1, 1, 1, 1, 1, 0]"
      ]
     },
     "execution_count": 33,
     "metadata": {},
     "output_type": "execute_result"
    }
   ],
   "source": [
    "# Same with y_train_index\n",
    "TopK_y = [y_train[x_index] for x_index in nearest[:k]]\n",
    "TopK_y"
   ]
  },
  {
   "cell_type": "code",
   "execution_count": 34,
   "metadata": {},
   "outputs": [
    {
     "data": {
      "text/plain": [
       "Counter({0: 1, 1: 5})"
      ]
     },
     "execution_count": 34,
     "metadata": {},
     "output_type": "execute_result"
    }
   ],
   "source": [
    "# Counter the most frequency category \n",
    "from collections import Counter \n",
    "\n",
    "# votes 统计 出现的频率\n",
    "votes = Counter(TopK_y)\n",
    "votes"
   ]
  },
  {
   "cell_type": "code",
   "execution_count": 35,
   "metadata": {},
   "outputs": [
    {
     "data": {
      "text/plain": [
       "5"
      ]
     },
     "execution_count": 35,
     "metadata": {},
     "output_type": "execute_result"
    }
   ],
   "source": [
    "# 取出votes中出现频率最高的种类 , 第一个元素most_common(1)\n",
    "target_category = votes.most_common(1)[0][0]\n",
    "votes.most_common(1)[0][0]   # - target \n",
    "votes.most_common(1)[0][1]   # - 频率个数"
   ]
  },
  {
   "cell_type": "code",
   "execution_count": 36,
   "metadata": {},
   "outputs": [
    {
     "data": {
      "text/plain": [
       "1"
      ]
     },
     "execution_count": 36,
     "metadata": {},
     "output_type": "execute_result"
    }
   ],
   "source": [
    "# New Data x's target_category is label 1 not label 0 !!\n",
    "target_category"
   ]
  },
  {
   "cell_type": "code",
   "execution_count": 37,
   "metadata": {},
   "outputs": [
    {
     "data": {
      "image/png": "[encoded data removed]",
      "text/plain": [
       "<Figure size 432x288 with 1 Axes>"
      ]
     },
     "metadata": {
      "needs_background": "light"
     },
     "output_type": "display_data"
    }
   ],
   "source": [
    "# Added New Data and Plot \n",
    "plt.scatter(X_train[y_train == 0,0],X_train[y_train == 0,1],color = 'r')\n",
    "plt.scatter(X_train[y_train == 1,0],X_train[y_train == 1,1],color = 'b')\n",
    "plt.scatter(x[0],x[1],color = 'm')\n",
    "plt.show()"
   ]
  },
  {
   "cell_type": "markdown",
   "metadata": {},
   "source": [
    "## Using KNN Algorithm in Scikit Learn to predict "
   ]
  },
  {
   "cell_type": "code",
   "execution_count": 38,
   "metadata": {},
   "outputs": [
    {
     "data": {
      "text/plain": [
       "array([1])"
      ]
     },
     "execution_count": 38,
     "metadata": {},
     "output_type": "execute_result"
    }
   ],
   "source": [
    "### Using KNN Algorithm in Scikit Learn\n",
    "from sklearn.neighbors import KNeighborsClassifier\n",
    "# KNN value  = 6\n",
    "knn_clf = KNeighborsClassifier(n_neighbors = 6)  # n_neighbors=6 \n",
    "\n",
    "# using train data to train the model\n",
    "knn_clf.fit(X_train,y_train)\n",
    "\n",
    "# test_data = x \n",
    "# re-format the data\n",
    "test_data = x.reshape(1,-1)  # change to 1*2  -1表示列数不限制\n",
    "\n",
    "# fit and test the test date \n",
    "y_prediction  = knn_clf.predict(test_data)\n",
    "y_prediction"
   ]
  },
  {
   "cell_type": "code",
   "execution_count": 39,
   "metadata": {},
   "outputs": [
    {
     "data": {
      "text/plain": [
       "array([[8.17216862, 3.51110105]])"
      ]
     },
     "execution_count": 39,
     "metadata": {},
     "output_type": "execute_result"
    }
   ],
   "source": [
    "test_data"
   ]
  },
  {
   "cell_type": "code",
   "execution_count": 40,
   "metadata": {},
   "outputs": [
    {
     "name": "stdout",
     "output_type": "stream",
     "text": [
      "('Predicted label for new data by KNN algorithm is :', 1)\n"
     ]
    }
   ],
   "source": [
    "# Final Output Value\n",
    "# y_prediction is the array \n",
    "print(\"Predicted label for new data by KNN algorithm is :\", y_prediction[0])"
   ]
  },
  {
   "cell_type": "markdown",
   "metadata": {},
   "source": [
    "### Try to split data into test and training dataset "
   ]
  },
  {
   "cell_type": "code",
   "execution_count": 18,
   "metadata": {},
   "outputs": [],
   "source": [
    "# import iris dataset \n",
    "from sklearn import datasets\n",
    "iris =datasets.load_iris()\n",
    "\n",
    "# data \n",
    "X = iris.data\n",
    "\n",
    "# label \n",
    "y = iris.target"
   ]
  },
  {
   "cell_type": "code",
   "execution_count": 19,
   "metadata": {},
   "outputs": [
    {
     "data": {
      "text/plain": [
       "['target', 'DESCR', 'target_names', 'feature_names', 'data', 'filename']"
      ]
     },
     "execution_count": 19,
     "metadata": {},
     "output_type": "execute_result"
    }
   ],
   "source": [
    "# Data Keys\n",
    "iris.keys()"
   ]
  },
  {
   "cell_type": "code",
   "execution_count": 20,
   "metadata": {},
   "outputs": [
    {
     "name": "stdout",
     "output_type": "stream",
     "text": [
      "('The shape of X is : ', (150L, 4L))\n",
      "('The shape of y is : ', (150L,))\n"
     ]
    }
   ],
   "source": [
    "# Data and target size\n",
    "print ('The shape of X is : ', X.shape)\n",
    "print ('The shape of y is : ', y.shape)"
   ]
  },
  {
   "cell_type": "code",
   "execution_count": 21,
   "metadata": {},
   "outputs": [],
   "source": [
    "# try to split data into train and test data sets\n",
    "from sklearn.model_selection import train_test_split\n",
    "X_train,X_test,y_train,y_test = train_test_split(X,y,test_size = 0.5, random_state = 200 ) # random_state is random seed "
   ]
  },
  {
   "cell_type": "code",
   "execution_count": 22,
   "metadata": {},
   "outputs": [
    {
     "data": {
      "text/plain": [
       "(150L, 4L)"
      ]
     },
     "execution_count": 22,
     "metadata": {},
     "output_type": "execute_result"
    }
   ],
   "source": [
    "X.shape"
   ]
  },
  {
   "cell_type": "code",
   "execution_count": 23,
   "metadata": {},
   "outputs": [
    {
     "data": {
      "text/plain": [
       "(75L, 4L)"
      ]
     },
     "execution_count": 23,
     "metadata": {},
     "output_type": "execute_result"
    }
   ],
   "source": [
    "X_train.shape   # test_size  = 0.5; 50% "
   ]
  },
  {
   "cell_type": "code",
   "execution_count": 24,
   "metadata": {},
   "outputs": [
    {
     "data": {
      "text/plain": [
       "(75L, 4L)"
      ]
     },
     "execution_count": 24,
     "metadata": {},
     "output_type": "execute_result"
    }
   ],
   "source": [
    "X_test.shape"
   ]
  },
  {
   "cell_type": "code",
   "execution_count": 25,
   "metadata": {},
   "outputs": [
    {
     "data": {
      "text/plain": [
       "(75L,)"
      ]
     },
     "execution_count": 25,
     "metadata": {},
     "output_type": "execute_result"
    }
   ],
   "source": [
    "y_test.shape"
   ]
  },
  {
   "cell_type": "code",
   "execution_count": 82,
   "metadata": {},
   "outputs": [
    {
     "data": {
      "text/plain": [
       "(75,)"
      ]
     },
     "execution_count": 82,
     "metadata": {},
     "output_type": "execute_result"
    }
   ],
   "source": [
    "y_train.shape"
   ]
  },
  {
   "cell_type": "code",
   "execution_count": null,
   "metadata": {},
   "outputs": [],
   "source": [
    "class KNNClassifier():\n",
    "    def __init__(self,X_trian,y_train):\n",
    "        self._X_train = X_trian\n",
    "        self._y_train = y_train\n",
    "        \n",
    "        \n",
    "    \n",
    "    def fit(self,x):\n",
    "        \n",
    "        return self"
   ]
  },
  {
   "cell_type": "code",
   "execution_count": null,
   "metadata": {},
   "outputs": [],
   "source": []
  }
 ],
 "metadata": {
  "kernelspec": {
   "display_name": "Python 2",
   "language": "python",
   "name": "python2"
  },
  "language_info": {
   "codemirror_mode": {
    "name": "ipython",
    "version": 2
   },
   "file_extension": ".py",
   "mimetype": "text/x-python",
   "name": "python",
   "nbconvert_exporter": "python",
   "pygments_lexer": "ipython2",
   "version": "2.7.9"
  }
 },
 "nbformat": 4,
 "nbformat_minor": 2
}
