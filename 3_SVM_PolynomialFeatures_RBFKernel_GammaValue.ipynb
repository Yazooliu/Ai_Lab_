{
 "cells": [
  {
   "cell_type": "markdown",
   "metadata": {},
   "source": [
    "### 4_SVM_PolynomialFeatures_RBFKernel_GammaValue"
   ]
  },
  {
   "cell_type": "code",
   "execution_count": 95,
   "metadata": {},
   "outputs": [],
   "source": [
    "#  Copyright private in 2018 \n",
    "#  Modify Date: \n",
    "#      2018-9-19\n",
    "#  Purpose : \n",
    "#      SVM learning - 多项式 分类 / RBF Kernel SVM  (gamma = 100/10/1/0.1)\n",
    "#      # RBF Kernel 升维 \n",
    "#      # gamma 值越大 - overfitting\n",
    "#      # gamma 值越小 - underfitting\n",
    "# ----------\n",
    "#coding:utf-8\n",
    "# import model or lib\n",
    "import numpy as np\n",
    "import matplotlib.pyplot as plt\n",
    "from  sklearn import datasets\n"
   ]
  },
  {
   "cell_type": "code",
   "execution_count": 172,
   "metadata": {},
   "outputs": [
    {
     "data": {
      "text/plain": [
       "(100,)"
      ]
     },
     "execution_count": 172,
     "metadata": {},
     "output_type": "execute_result"
    }
   ],
   "source": [
    "# Data prepartion - make moons  \n",
    "X,y = datasets.make_moons(noise = 0.20,random_state = 100)\n",
    "X.shape  # 100*2 \n",
    "y.shape  # 100 "
   ]
  },
  {
   "cell_type": "code",
   "execution_count": 45,
   "metadata": {},
   "outputs": [
    {
     "data": {
      "image/png": "[encoded data removed]",
      "text/plain": [
       "<Figure size 432x288 with 1 Axes>"
      ]
     },
     "metadata": {},
     "output_type": "display_data"
    }
   ],
   "source": [
    "# plot the data - 半月形数据\n",
    "plt.scatter(X[y == 0,0], X[y == 0,1])\n",
    "plt.scatter(X[y == 1,0], X[y == 1,1])\n",
    "plt.show()"
   ]
  },
  {
   "cell_type": "markdown",
   "metadata": {},
   "source": [
    "### 1. 使用多项式特征的SVM"
   ]
  },
  {
   "cell_type": "code",
   "execution_count": 55,
   "metadata": {},
   "outputs": [],
   "source": [
    "from sklearn.preprocessing import PolynomialFeatures,StandardScaler\n",
    "from sklearn.svm import LinearSVC\n",
    "from sklearn.pipeline import Pipeline   # 顺序执行多个操作\n",
    "\n",
    "# define the PolynomialFeaturesSVM\n",
    "def PolynomialFeaturesSVM(degree,C =1.0):  # 多项式degree \n",
    "    return Pipeline([\n",
    "        (\"poly\",PolynomialFeatures(degree = degree)),\n",
    "        (\"std_scaler\",StandardScaler()),\n",
    "        (\"LinearSVC\",LinearSVC(C=C))\n",
    "        ])\n",
    "\n"
   ]
  },
  {
   "cell_type": "code",
   "execution_count": 52,
   "metadata": {},
   "outputs": [
    {
     "data": {
      "text/plain": [
       "Pipeline(memory=None,\n",
       "     steps=[('poly1', PolynomialFeatures(degree=3, include_bias=True, interaction_only=False)), ('std_scaler', StandardScaler(copy=True, with_mean=True, with_std=True)), ('LinearSVC', LinearSVC(C=2, class_weight=None, dual=True, fit_intercept=True,\n",
       "     intercept_scaling=1, loss='squared_hinge', max_iter=1000,\n",
       "     multi_class='ovr', penalty='l2', random_state=None, tol=0.0001,\n",
       "     verbose=0))])"
      ]
     },
     "execution_count": 52,
     "metadata": {},
     "output_type": "execute_result"
    }
   ],
   "source": [
    "# fit the data \n",
    "# degree and C 正则化项 min(w**2) + C* sum(eta)\n",
    "# L1 or L2 正则化项\n",
    "Poly_SVC = PolynomialFeaturesSVM(degree = 3,C=2)\n",
    "Poly_SVC.fit(X,y)"
   ]
  },
  {
   "cell_type": "code",
   "execution_count": 179,
   "metadata": {},
   "outputs": [],
   "source": [
    "# 3 plot the decision boundary\n",
    "def plot_decision_bounary(model, axis):\n",
    "    x0,x1 = np.meshgrid(\n",
    "        np.linspace(axis[0],axis[1], int( (axis[1]-axis[0])*100)).reshape(-1,1),\n",
    "        np.linspace(axis[2],axis[3], int( (axis[3]-axis[2])*100)).reshape(-1,1),\n",
    "    )\n",
    "    \n",
    "    x_new          =   np.c_[x0.ravel(), x1.ravel()]\n",
    "    y_prediction   =   model.predict(x_new)\n",
    "    y_prediction   =   y_prediction.reshape(x0.shape)\n",
    "    \n",
    "    \n",
    "    from matplotlib.colors import ListedColormap\n",
    "    custom_map  = ListedColormap(['#EF9A9A', '#FFF59D', '#90CAF9'])\n",
    "    \n",
    "    plt.contourf(x0,x1,y_prediction, cmap = custom_map)\n",
    "    "
   ]
  },
  {
   "cell_type": "code",
   "execution_count": 180,
   "metadata": {
    "scrolled": true
   },
   "outputs": [
    {
     "data": {
      "image/png": "[encoded data removed]",
      "text/plain": [
       "<Figure size 432x288 with 1 Axes>"
      ]
     },
     "metadata": {},
     "output_type": "display_data"
    }
   ],
   "source": [
    "# plot the figure \n",
    "plot_decision_bounary(Poly_SVC,axis = [-3, 3, -2 , 2])\n",
    "plt.scatter(X[y == 0,0], X[y == 0,1])\n",
    "plt.scatter(X[y == 1,0], X[y == 1,1])\n",
    "plt.show()"
   ]
  },
  {
   "cell_type": "markdown",
   "metadata": {},
   "source": [
    "### 2. 使用多项式Kernel的SVM"
   ]
  },
  {
   "cell_type": "code",
   "execution_count": 73,
   "metadata": {},
   "outputs": [],
   "source": [
    "# \n",
    "from sklearn.svm import SVC # LinearSVC is for LinearSVM \n",
    "from sklearn.preprocessing import StandardScaler\n",
    "from sklearn.pipeline import Pipeline"
   ]
  },
  {
   "cell_type": "code",
   "execution_count": 93,
   "metadata": {},
   "outputs": [],
   "source": [
    "# define PolynomialKernelSVM - 非线性决策边界 \n",
    "def PolynomialKernelSVM(degree,C = 1):\n",
    "    return Pipeline([\n",
    "            (\"std_sca\",StandardScaler()),\n",
    "            (\"PolyKernelSVM\",SVC(kernel = 'poly', degree = degree, C  = C))  # 多项式kernel \n",
    "            ])"
   ]
  },
  {
   "cell_type": "code",
   "execution_count": 90,
   "metadata": {},
   "outputs": [
    {
     "data": {
      "text/plain": [
       "Pipeline(memory=None,\n",
       "     steps=[('std_sca', StandardScaler(copy=True, with_mean=True, with_std=True)), ('PolyKernelSVM', SVC(C=0.2, cache_size=200, class_weight=None, coef0=0.0,\n",
       "  decision_function_shape='ovr', degree=3, gamma='auto', kernel='poly',\n",
       "  max_iter=-1, probability=False, random_state=None, shrinking=True,\n",
       "  tol=0.001, verbose=False))])"
      ]
     },
     "execution_count": 90,
     "metadata": {},
     "output_type": "execute_result"
    }
   ],
   "source": [
    "PolKernelSVM = PolynomialKernelSVM(degree=3,C = 0.2)\n",
    "PolKernelSVM.fit(X,y)"
   ]
  },
  {
   "cell_type": "code",
   "execution_count": null,
   "metadata": {},
   "outputs": [],
   "source": [
    "### Other model .... "
   ]
  },
  {
   "cell_type": "code",
   "execution_count": 87,
   "metadata": {},
   "outputs": [
    {
     "data": {
      "text/plain": [
       "Pipeline(memory=None,\n",
       "     steps=[('std_sca', StandardScaler(copy=True, with_mean=True, with_std=True)), ('PolyKernelSVM', SVC(C=2, cache_size=200, class_weight=None, coef0=0.0,\n",
       "  decision_function_shape='ovr', degree=5, gamma='auto', kernel='poly',\n",
       "  max_iter=-1, probability=False, random_state=None, shrinking=True,\n",
       "  tol=0.001, verbose=False))])"
      ]
     },
     "execution_count": 87,
     "metadata": {},
     "output_type": "execute_result"
    }
   ],
   "source": [
    "PolKernelSVM10 = PolynomialKernelSVM(degree=5,C=2)\n",
    "PolKernelSVM10.fit(X,y)"
   ]
  },
  {
   "cell_type": "code",
   "execution_count": 181,
   "metadata": {},
   "outputs": [
    {
     "data": {
      "image/png": "[encoded data removed]",
      "text/plain": [
       "<Figure size 432x288 with 1 Axes>"
      ]
     },
     "metadata": {},
     "output_type": "display_data"
    }
   ],
   "source": [
    "# plot the figure \n",
    "plot_decision_bounary(PolKernelSVM,axis = [-3,3,-3,3])\n",
    "plt.scatter(X[y == 0,0], X[y == 0,1])\n",
    "plt.scatter(X[y == 1,0], X[y == 1,1])\n",
    "plt.show()"
   ]
  },
  {
   "cell_type": "code",
   "execution_count": 182,
   "metadata": {},
   "outputs": [
    {
     "data": {
      "image/png": "[encoded data removed]",
      "text/plain": [
       "<Figure size 432x288 with 1 Axes>"
      ]
     },
     "metadata": {},
     "output_type": "display_data"
    }
   ],
   "source": [
    "# plot the figure \n",
    "plot_decision_bounary(PolKernelSVM10,axis = [-3,3,-3,3])\n",
    "plt.scatter(X[y == 0,0], X[y == 0,1])\n",
    "plt.scatter(X[y == 1,0], X[y == 1,1])\n",
    "plt.show()\n"
   ]
  },
  {
   "cell_type": "code",
   "execution_count": null,
   "metadata": {},
   "outputs": [],
   "source": []
  },
  {
   "cell_type": "markdown",
   "metadata": {},
   "source": [
    "### 3. 使高斯核Kernel的SVM - RBF Kernel"
   ]
  },
  {
   "cell_type": "code",
   "execution_count": null,
   "metadata": {},
   "outputs": [],
   "source": [
    "# 理论上RBF kernel 将数据点拓展到无限维度的特征空间上\n",
    "# 升维是一维不可分的函数升到多维空间，编程高斯可分的\n",
    "# "
   ]
  },
  {
   "cell_type": "code",
   "execution_count": 96,
   "metadata": {},
   "outputs": [],
   "source": [
    "# 以下shown 一维度数据点升维到多维的过程\n",
    "# l1, l2 - 作为地标"
   ]
  },
  {
   "cell_type": "code",
   "execution_count": 98,
   "metadata": {},
   "outputs": [],
   "source": [
    "import numpy as np\n",
    "import matplotlib.pyplot as plt"
   ]
  },
  {
   "cell_type": "code",
   "execution_count": 100,
   "metadata": {},
   "outputs": [],
   "source": [
    "data_x = np.arange(-4,8,1)"
   ]
  },
  {
   "cell_type": "code",
   "execution_count": 101,
   "metadata": {},
   "outputs": [
    {
     "data": {
      "text/plain": [
       "array([-4, -3, -2, -1,  0,  1,  2,  3,  4,  5,  6,  7])"
      ]
     },
     "execution_count": 101,
     "metadata": {},
     "output_type": "execute_result"
    }
   ],
   "source": [
    "data_x"
   ]
  },
  {
   "cell_type": "code",
   "execution_count": 103,
   "metadata": {},
   "outputs": [],
   "source": [
    "data_y  = np.array( (data_x>= -4)&(data_x <= 3), dtype = 'int')"
   ]
  },
  {
   "cell_type": "code",
   "execution_count": 104,
   "metadata": {},
   "outputs": [
    {
     "data": {
      "text/plain": [
       "array([1, 1, 1, 1, 1, 1, 1, 1, 0, 0, 0, 0])"
      ]
     },
     "execution_count": 104,
     "metadata": {},
     "output_type": "execute_result"
    }
   ],
   "source": [
    "data_y"
   ]
  },
  {
   "cell_type": "markdown",
   "metadata": {},
   "source": [
    "### 一维数据显然是线性不可分的"
   ]
  },
  {
   "cell_type": "code",
   "execution_count": 112,
   "metadata": {},
   "outputs": [
    {
     "data": {
      "image/png": "[encoded data removed]",
      "text/plain": [
       "<Figure size 432x288 with 1 Axes>"
      ]
     },
     "metadata": {},
     "output_type": "display_data"
    }
   ],
   "source": [
    "#plot 一维数据显然是线性不可分的\n",
    "# data_y = 0 or data_y = 1\n",
    "plt.scatter(data_x[data_y == 0],0*data_x[data_y == 0])\n",
    "plt.scatter(data_x[data_y == 1],0*data_x[data_y == 1])\n",
    "plt.show()"
   ]
  },
  {
   "cell_type": "markdown",
   "metadata": {},
   "source": [
    "### 3.1 RBF Kernel Function"
   ]
  },
  {
   "cell_type": "code",
   "execution_count": 154,
   "metadata": {},
   "outputs": [],
   "source": [
    "# RBF Functions \n",
    "# K(x,y) = exp(-gamma*(x-y)**2)\n",
    "# 将 m*n 的数据映射成m *m 的数据，计算开销比较大 ，多应用于NLP \n",
    "#\n",
    "def RBFKernel(gamma,x,y):\n",
    "    return np.exp(-gamma* (x-y)**2)"
   ]
  },
  {
   "cell_type": "code",
   "execution_count": 152,
   "metadata": {},
   "outputs": [],
   "source": [
    "# land mark\n",
    "L1 = -4\n",
    "L2 = 4"
   ]
  },
  {
   "cell_type": "code",
   "execution_count": 195,
   "metadata": {},
   "outputs": [],
   "source": [
    "#for index, data in enumerate(data_x):\n",
    " #   print(index)"
   ]
  },
  {
   "cell_type": "code",
   "execution_count": 196,
   "metadata": {},
   "outputs": [],
   "source": [
    "#for index, data in enumerate(data_x):\n",
    " #   print(data)"
   ]
  },
  {
   "cell_type": "markdown",
   "metadata": {},
   "source": [
    "###  将一维不可分数据升维为 2 维数据"
   ]
  },
  {
   "cell_type": "code",
   "execution_count": 153,
   "metadata": {},
   "outputs": [
    {
     "data": {
      "image/png": "[encoded data removed]",
      "text/plain": [
       "<Figure size 432x288 with 1 Axes>"
      ]
     },
     "metadata": {},
     "output_type": "display_data"
    }
   ],
   "source": [
    "X  = np.empty((len(data_x),2))\n",
    "for index, data in enumerate(data_x):\n",
    "    X[index,0] = RBFKernel(1,data,L1)  # gamma = 1\n",
    "    X[index,1] = RBFKernel(1,data,L2)  # gamma  = 1\n",
    "\n",
    "# plot 将一维不可分数据升维为 2 维数据\n",
    "plt.scatter(X[data_y == 0,0],X[data_y == 0,1])\n",
    "plt.scatter(X[data_y == 1,0],X[data_y == 1,1])\n",
    "plt.show()"
   ]
  },
  {
   "cell_type": "markdown",
   "metadata": {},
   "source": [
    "### 3.2 利用RBF核函数做具体分类"
   ]
  },
  {
   "cell_type": "code",
   "execution_count": 173,
   "metadata": {},
   "outputs": [],
   "source": [
    "# RBF Kernel Classifier\n",
    "from  sklearn.preprocessing import StandardScaler\n",
    "from  sklearn.pipeline import Pipeline\n",
    "from  sklearn.svm import SVC\n",
    "\n",
    "def RBFKernelClassifier(gamma):\n",
    "    return Pipeline([\n",
    "        (\"std_sca\",StandardScaler()),\n",
    "        (\"rbfkernel\",SVC(kernel = \"rbf\", gamma = gamma))\n",
    "    ])\n",
    "    "
   ]
  },
  {
   "cell_type": "markdown",
   "metadata": {},
   "source": [
    "### BRF Kernel Gamma  = 100, 值越大钟型图越 高瘦"
   ]
  },
  {
   "cell_type": "code",
   "execution_count": 188,
   "metadata": {},
   "outputs": [
    {
     "data": {
      "text/plain": [
       "Pipeline(memory=None,\n",
       "     steps=[('std_sca', StandardScaler(copy=True, with_mean=True, with_std=True)), ('rbfkernel', SVC(C=1.0, cache_size=200, class_weight=None, coef0=0.0,\n",
       "  decision_function_shape='ovr', degree=3, gamma=100, kernel='rbf',\n",
       "  max_iter=-1, probability=False, random_state=None, shrinking=True,\n",
       "  tol=0.001, verbose=False))])"
      ]
     },
     "execution_count": 188,
     "metadata": {},
     "output_type": "execute_result"
    }
   ],
   "source": [
    "RBFKernel_clf = RBFKernelClassifier(gamma = 100)\n",
    "RBFKernel_clf.fit(X,y)"
   ]
  },
  {
   "cell_type": "code",
   "execution_count": 189,
   "metadata": {},
   "outputs": [
    {
     "data": {
      "image/png": "[encoded data removed]",
      "text/plain": [
       "<Figure size 432x288 with 1 Axes>"
      ]
     },
     "metadata": {},
     "output_type": "display_data"
    }
   ],
   "source": [
    "# plot the decision boundary \n",
    "plot_decision_bounary(RBFKernel_clf,axis = [-3,3,-3,3])\n",
    "plt.scatter(X[y == 0,0], X[y == 0,1])\n",
    "plt.scatter(X[y == 1,0], X[y == 1,1])\n",
    "plt.show()\n",
    "\n",
    "# gamma = 100 值越大，则钟形图越高瘦"
   ]
  },
  {
   "cell_type": "code",
   "execution_count": 201,
   "metadata": {},
   "outputs": [
    {
     "data": {
      "image/png": "[encoded data removed]",
      "text/plain": [
       "<Figure size 432x288 with 1 Axes>"
      ]
     },
     "metadata": {},
     "output_type": "display_data"
    }
   ],
   "source": [
    "# gamma  = 10 \n",
    "RBFKernel_clf = RBFKernelClassifier(gamma = 20)\n",
    "RBFKernel_clf.fit(X,y)\n",
    "\n",
    " \n",
    "# plot the decision boundary \n",
    "plot_decision_bounary(RBFKernel_clf,axis = [-3,3,-3,3])\n",
    "plt.scatter(X[y == 0,0], X[y == 0,1])\n",
    "plt.scatter(X[y == 1,0], X[y == 1,1])\n",
    "plt.show()\n"
   ]
  },
  {
   "cell_type": "code",
   "execution_count": 192,
   "metadata": {},
   "outputs": [
    {
     "data": {
      "image/png": "[encoded data removed]",
      "text/plain": [
       "<Figure size 432x288 with 1 Axes>"
      ]
     },
     "metadata": {},
     "output_type": "display_data"
    }
   ],
   "source": [
    "# gamma  = 1\n",
    "RBFKernel_clf = RBFKernelClassifier(gamma = 1)\n",
    "RBFKernel_clf.fit(X,y)\n",
    "\n",
    " \n",
    "# plot the decision boundary \n",
    "plot_decision_bounary(RBFKernel_clf,axis = [-3,3,-3,3])\n",
    "plt.scatter(X[y == 0,0], X[y == 0,1])\n",
    "plt.scatter(X[y == 1,0], X[y == 1,1])\n",
    "plt.show()\n"
   ]
  },
  {
   "cell_type": "code",
   "execution_count": 194,
   "metadata": {},
   "outputs": [],
   "source": [
    "### gamma  = 0.1 钟型图越矮胖"
   ]
  },
  {
   "cell_type": "code",
   "execution_count": 193,
   "metadata": {},
   "outputs": [
    {
     "data": {
      "image/png": "[encoded data removed]",
      "text/plain": [
       "<Figure size 432x288 with 1 Axes>"
      ]
     },
     "metadata": {},
     "output_type": "display_data"
    }
   ],
   "source": [
    "# gamma  = 0.1\n",
    "RBFKernel_clf = RBFKernelClassifier(gamma = 0.100)\n",
    "RBFKernel_clf.fit(X,y)\n",
    "\n",
    " \n",
    "# plot the decision boundary \n",
    "plot_decision_bounary(RBFKernel_clf,axis = [-3,3,-3,3])\n",
    "plt.scatter(X[y == 0,0], X[y == 0,1])\n",
    "plt.scatter(X[y == 1,0], X[y == 1,1])\n",
    "plt.show()\n"
   ]
  },
  {
   "cell_type": "code",
   "execution_count": null,
   "metadata": {},
   "outputs": [],
   "source": []
  },
  {
   "cell_type": "code",
   "execution_count": null,
   "metadata": {},
   "outputs": [],
   "source": []
  },
  {
   "cell_type": "code",
   "execution_count": null,
   "metadata": {},
   "outputs": [],
   "source": []
  },
  {
   "cell_type": "code",
   "execution_count": null,
   "metadata": {},
   "outputs": [],
   "source": []
  },
  {
   "cell_type": "code",
   "execution_count": null,
   "metadata": {},
   "outputs": [],
   "source": []
  }
 ],
 "metadata": {
  "kernelspec": {
   "display_name": "Python 3",
   "language": "python",
   "name": "python3"
  },
  "language_info": {
   "codemirror_mode": {
    "name": "ipython",
    "version": 3
   },
   "file_extension": ".py",
   "mimetype": "text/x-python",
   "name": "python",
   "nbconvert_exporter": "python",
   "pygments_lexer": "ipython3",
   "version": "3.6.3"
  }
 },
 "nbformat": 4,
 "nbformat_minor": 2
}
